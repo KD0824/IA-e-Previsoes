{
 "cells": [
  {
   "cell_type": "markdown",
   "metadata": {},
   "source": [
    "**Karl Darwin Ombele Ndassebe**\n",
    "\n",
    "\n",
    "**ANÁLISE PREDITIVA DE SCORE DE CRÉDITO COM PYHTON: Modelo para Decisões Financeiras**\n",
    "\n",
    "*13 de julho, 2023*\n",
    "\n"
   ]
  },
  {
   "cell_type": "markdown",
   "metadata": {},
   "source": [
    "**1. INTRODUÇÃO**\n",
    "\n",
    "O score de crédito é uma métrica crucial para as instituições financeiras avaliarem a probabilidade de os clientes honrarem seus compromissos financeiros. Uma classificação precisa do score de crédito permite tomar decisões mais informadas sobre a concessão de crédito, minimizando os riscos de inadimplência e maximizando os lucros.\n",
    "\n",
    "Este trabalho visa analisar os dados dos clientes de uma instituição financeira e desenvolver uma solução de inteligência artificial. O objetivo é construir um modelo preditivo capaz de classificar automaticamente o score de crédito dos clientes em três categorias distintas (Ruim, Padrão, Bom).\n",
    "\n",
    "A implementação da solução será realizada utilizando Python, uma linguagem robusta e amplamente utilizada para análise de dados e machine learning. O processo incluirá análise exploratória para compreender a distribuição dos dados, pré-processamento para adequar os dados brutos ao modelo, seleção de features relevantes, treinamento de modelos com diversos algoritmos de machine learning, avaliação de desempenho utilizando métricas apropriadas, criação de visualizações para apresentar os resultados e previsão do score de crédito para novos clientes utilizando o modelo desenvolvido."
   ]
  },
  {
   "cell_type": "markdown",
   "metadata": {},
   "source": [
    "**2. CARREGAMENTO E TRATAMENTO DOS DADOS**\n",
    "\n",
    "**2.1 Importação das bibliotecas necessárias**\n",
    "\n",
    "O projeto se inicia com a importação de todas as bibliotecas necessárias para as fases iniciais de exploração e transformação dos dados."
   ]
  },
  {
   "cell_type": "code",
   "execution_count": 1,
   "metadata": {},
   "outputs": [
    {
     "data": {
      "text/html": [
       "        <script type=\"text/javascript\">\n",
       "        window.PlotlyConfig = {MathJaxConfig: 'local'};\n",
       "        if (window.MathJax && window.MathJax.Hub && window.MathJax.Hub.Config) {window.MathJax.Hub.Config({SVG: {font: \"STIX-Web\"}});}\n",
       "        if (typeof require !== 'undefined') {\n",
       "        require.undef(\"plotly\");\n",
       "        requirejs.config({\n",
       "            paths: {\n",
       "                'plotly': ['https://cdn.plot.ly/plotly-2.32.0.min']\n",
       "            }\n",
       "        });\n",
       "        require(['plotly'], function(Plotly) {\n",
       "            window._Plotly = Plotly;\n",
       "        });\n",
       "        }\n",
       "        </script>\n",
       "        "
      ]
     },
     "metadata": {},
     "output_type": "display_data"
    }
   ],
   "source": [
    "# Bibliotecas necessárias\n",
    "%matplotlib inline\n",
    "\n",
    "import pandas as pd\n",
    "import numpy as np\n",
    "import matplotlib.pyplot as plt\n",
    "import seaborn as sns\n",
    "from sklearn.preprocessing import LabelEncoder\n",
    "from sklearn.model_selection import train_test_split\n",
    "from sklearn.ensemble import RandomForestClassifier, GradientBoostingClassifier\n",
    "from sklearn.neighbors import KNeighborsClassifier\n",
    "from sklearn.metrics import accuracy_score, classification_report, confusion_matrix\n",
    "from sklearn.metrics import roc_auc_score, roc_curve\n",
    "import plotly.offline as pyo\n",
    "\n",
    "pyo.init_notebook_mode(connected=True)"
   ]
  },
  {
   "cell_type": "markdown",
   "metadata": {},
   "source": [
    "**2.2 Importação de Dados**"
   ]
  },
  {
   "cell_type": "code",
   "execution_count": 2,
   "metadata": {},
   "outputs": [
    {
     "data": {
      "text/html": [
       "<div>\n",
       "<style scoped>\n",
       "    .dataframe tbody tr th:only-of-type {\n",
       "        vertical-align: middle;\n",
       "    }\n",
       "\n",
       "    .dataframe tbody tr th {\n",
       "        vertical-align: top;\n",
       "    }\n",
       "\n",
       "    .dataframe thead th {\n",
       "        text-align: right;\n",
       "    }\n",
       "</style>\n",
       "<table border=\"1\" class=\"dataframe\">\n",
       "  <thead>\n",
       "    <tr style=\"text-align: right;\">\n",
       "      <th></th>\n",
       "      <th>id_cliente</th>\n",
       "      <th>mes</th>\n",
       "      <th>idade</th>\n",
       "      <th>profissao</th>\n",
       "      <th>salario_anual</th>\n",
       "      <th>num_contas</th>\n",
       "      <th>num_cartoes</th>\n",
       "      <th>juros_emprestimo</th>\n",
       "      <th>num_emprestimos</th>\n",
       "      <th>dias_atraso</th>\n",
       "      <th>...</th>\n",
       "      <th>idade_historico_credito</th>\n",
       "      <th>investimento_mensal</th>\n",
       "      <th>comportamento_pagamento</th>\n",
       "      <th>saldo_final_mes</th>\n",
       "      <th>score_credito</th>\n",
       "      <th>emprestimo_carro</th>\n",
       "      <th>emprestimo_casa</th>\n",
       "      <th>emprestimo_pessoal</th>\n",
       "      <th>emprestimo_credito</th>\n",
       "      <th>emprestimo_estudantil</th>\n",
       "    </tr>\n",
       "  </thead>\n",
       "  <tbody>\n",
       "    <tr>\n",
       "      <th>0</th>\n",
       "      <td>3392</td>\n",
       "      <td>1</td>\n",
       "      <td>23.0</td>\n",
       "      <td>cientista</td>\n",
       "      <td>19114.12</td>\n",
       "      <td>3.0</td>\n",
       "      <td>4.0</td>\n",
       "      <td>3.0</td>\n",
       "      <td>4.0</td>\n",
       "      <td>3.0</td>\n",
       "      <td>...</td>\n",
       "      <td>265.0</td>\n",
       "      <td>21.465380</td>\n",
       "      <td>alto_gasto_pagamento_baixos</td>\n",
       "      <td>312.494089</td>\n",
       "      <td>Good</td>\n",
       "      <td>1</td>\n",
       "      <td>1</td>\n",
       "      <td>1</td>\n",
       "      <td>1</td>\n",
       "      <td>0</td>\n",
       "    </tr>\n",
       "    <tr>\n",
       "      <th>1</th>\n",
       "      <td>3392</td>\n",
       "      <td>2</td>\n",
       "      <td>23.0</td>\n",
       "      <td>cientista</td>\n",
       "      <td>19114.12</td>\n",
       "      <td>3.0</td>\n",
       "      <td>4.0</td>\n",
       "      <td>3.0</td>\n",
       "      <td>4.0</td>\n",
       "      <td>3.0</td>\n",
       "      <td>...</td>\n",
       "      <td>266.0</td>\n",
       "      <td>21.465380</td>\n",
       "      <td>baixo_gasto_pagamento_alto</td>\n",
       "      <td>284.629162</td>\n",
       "      <td>Good</td>\n",
       "      <td>1</td>\n",
       "      <td>1</td>\n",
       "      <td>1</td>\n",
       "      <td>1</td>\n",
       "      <td>0</td>\n",
       "    </tr>\n",
       "    <tr>\n",
       "      <th>2</th>\n",
       "      <td>3392</td>\n",
       "      <td>3</td>\n",
       "      <td>23.0</td>\n",
       "      <td>cientista</td>\n",
       "      <td>19114.12</td>\n",
       "      <td>3.0</td>\n",
       "      <td>4.0</td>\n",
       "      <td>3.0</td>\n",
       "      <td>4.0</td>\n",
       "      <td>3.0</td>\n",
       "      <td>...</td>\n",
       "      <td>267.0</td>\n",
       "      <td>21.465380</td>\n",
       "      <td>baixo_gasto_pagamento_medio</td>\n",
       "      <td>331.209863</td>\n",
       "      <td>Good</td>\n",
       "      <td>1</td>\n",
       "      <td>1</td>\n",
       "      <td>1</td>\n",
       "      <td>1</td>\n",
       "      <td>0</td>\n",
       "    </tr>\n",
       "    <tr>\n",
       "      <th>3</th>\n",
       "      <td>3392</td>\n",
       "      <td>4</td>\n",
       "      <td>23.0</td>\n",
       "      <td>cientista</td>\n",
       "      <td>19114.12</td>\n",
       "      <td>3.0</td>\n",
       "      <td>4.0</td>\n",
       "      <td>3.0</td>\n",
       "      <td>4.0</td>\n",
       "      <td>5.0</td>\n",
       "      <td>...</td>\n",
       "      <td>268.0</td>\n",
       "      <td>21.465380</td>\n",
       "      <td>baixo_gasto_pagamento_baixo</td>\n",
       "      <td>223.451310</td>\n",
       "      <td>Good</td>\n",
       "      <td>1</td>\n",
       "      <td>1</td>\n",
       "      <td>1</td>\n",
       "      <td>1</td>\n",
       "      <td>0</td>\n",
       "    </tr>\n",
       "    <tr>\n",
       "      <th>4</th>\n",
       "      <td>3392</td>\n",
       "      <td>5</td>\n",
       "      <td>23.0</td>\n",
       "      <td>cientista</td>\n",
       "      <td>19114.12</td>\n",
       "      <td>3.0</td>\n",
       "      <td>4.0</td>\n",
       "      <td>3.0</td>\n",
       "      <td>4.0</td>\n",
       "      <td>6.0</td>\n",
       "      <td>...</td>\n",
       "      <td>269.0</td>\n",
       "      <td>21.465380</td>\n",
       "      <td>alto_gasto_pagamento_medio</td>\n",
       "      <td>341.489231</td>\n",
       "      <td>Good</td>\n",
       "      <td>1</td>\n",
       "      <td>1</td>\n",
       "      <td>1</td>\n",
       "      <td>1</td>\n",
       "      <td>0</td>\n",
       "    </tr>\n",
       "    <tr>\n",
       "      <th>...</th>\n",
       "      <td>...</td>\n",
       "      <td>...</td>\n",
       "      <td>...</td>\n",
       "      <td>...</td>\n",
       "      <td>...</td>\n",
       "      <td>...</td>\n",
       "      <td>...</td>\n",
       "      <td>...</td>\n",
       "      <td>...</td>\n",
       "      <td>...</td>\n",
       "      <td>...</td>\n",
       "      <td>...</td>\n",
       "      <td>...</td>\n",
       "      <td>...</td>\n",
       "      <td>...</td>\n",
       "      <td>...</td>\n",
       "      <td>...</td>\n",
       "      <td>...</td>\n",
       "      <td>...</td>\n",
       "      <td>...</td>\n",
       "      <td>...</td>\n",
       "    </tr>\n",
       "    <tr>\n",
       "      <th>99995</th>\n",
       "      <td>37932</td>\n",
       "      <td>4</td>\n",
       "      <td>25.0</td>\n",
       "      <td>mecanico</td>\n",
       "      <td>39628.99</td>\n",
       "      <td>4.0</td>\n",
       "      <td>6.0</td>\n",
       "      <td>7.0</td>\n",
       "      <td>2.0</td>\n",
       "      <td>23.0</td>\n",
       "      <td>...</td>\n",
       "      <td>378.0</td>\n",
       "      <td>24.028477</td>\n",
       "      <td>alto_gasto_pagamento_alto</td>\n",
       "      <td>479.866228</td>\n",
       "      <td>Poor</td>\n",
       "      <td>1</td>\n",
       "      <td>0</td>\n",
       "      <td>0</td>\n",
       "      <td>0</td>\n",
       "      <td>1</td>\n",
       "    </tr>\n",
       "    <tr>\n",
       "      <th>99996</th>\n",
       "      <td>37932</td>\n",
       "      <td>5</td>\n",
       "      <td>25.0</td>\n",
       "      <td>mecanico</td>\n",
       "      <td>39628.99</td>\n",
       "      <td>4.0</td>\n",
       "      <td>6.0</td>\n",
       "      <td>7.0</td>\n",
       "      <td>2.0</td>\n",
       "      <td>18.0</td>\n",
       "      <td>...</td>\n",
       "      <td>379.0</td>\n",
       "      <td>24.028477</td>\n",
       "      <td>alto_gasto_pagamento_medio</td>\n",
       "      <td>496.651610</td>\n",
       "      <td>Poor</td>\n",
       "      <td>1</td>\n",
       "      <td>0</td>\n",
       "      <td>0</td>\n",
       "      <td>0</td>\n",
       "      <td>1</td>\n",
       "    </tr>\n",
       "    <tr>\n",
       "      <th>99997</th>\n",
       "      <td>37932</td>\n",
       "      <td>6</td>\n",
       "      <td>25.0</td>\n",
       "      <td>mecanico</td>\n",
       "      <td>39628.99</td>\n",
       "      <td>4.0</td>\n",
       "      <td>6.0</td>\n",
       "      <td>7.0</td>\n",
       "      <td>2.0</td>\n",
       "      <td>27.0</td>\n",
       "      <td>...</td>\n",
       "      <td>380.0</td>\n",
       "      <td>24.028477</td>\n",
       "      <td>alto_gasto_pagamento_alto</td>\n",
       "      <td>516.809083</td>\n",
       "      <td>Poor</td>\n",
       "      <td>1</td>\n",
       "      <td>0</td>\n",
       "      <td>0</td>\n",
       "      <td>0</td>\n",
       "      <td>1</td>\n",
       "    </tr>\n",
       "    <tr>\n",
       "      <th>99998</th>\n",
       "      <td>37932</td>\n",
       "      <td>7</td>\n",
       "      <td>25.0</td>\n",
       "      <td>mecanico</td>\n",
       "      <td>39628.99</td>\n",
       "      <td>4.0</td>\n",
       "      <td>6.0</td>\n",
       "      <td>7.0</td>\n",
       "      <td>2.0</td>\n",
       "      <td>20.0</td>\n",
       "      <td>...</td>\n",
       "      <td>381.0</td>\n",
       "      <td>24.028477</td>\n",
       "      <td>baixo_gasto_pagamento_alto</td>\n",
       "      <td>319.164979</td>\n",
       "      <td>Standard</td>\n",
       "      <td>1</td>\n",
       "      <td>0</td>\n",
       "      <td>0</td>\n",
       "      <td>0</td>\n",
       "      <td>1</td>\n",
       "    </tr>\n",
       "    <tr>\n",
       "      <th>99999</th>\n",
       "      <td>37932</td>\n",
       "      <td>8</td>\n",
       "      <td>25.0</td>\n",
       "      <td>mecanico</td>\n",
       "      <td>39628.99</td>\n",
       "      <td>4.0</td>\n",
       "      <td>6.0</td>\n",
       "      <td>7.0</td>\n",
       "      <td>2.0</td>\n",
       "      <td>18.0</td>\n",
       "      <td>...</td>\n",
       "      <td>382.0</td>\n",
       "      <td>24.028477</td>\n",
       "      <td>alto_gasto_pagamento_medio</td>\n",
       "      <td>393.673696</td>\n",
       "      <td>Poor</td>\n",
       "      <td>1</td>\n",
       "      <td>0</td>\n",
       "      <td>0</td>\n",
       "      <td>0</td>\n",
       "      <td>1</td>\n",
       "    </tr>\n",
       "  </tbody>\n",
       "</table>\n",
       "<p>100000 rows × 25 columns</p>\n",
       "</div>"
      ],
      "text/plain": [
       "       id_cliente  mes  idade  profissao  salario_anual  num_contas  \\\n",
       "0            3392    1   23.0  cientista       19114.12         3.0   \n",
       "1            3392    2   23.0  cientista       19114.12         3.0   \n",
       "2            3392    3   23.0  cientista       19114.12         3.0   \n",
       "3            3392    4   23.0  cientista       19114.12         3.0   \n",
       "4            3392    5   23.0  cientista       19114.12         3.0   \n",
       "...           ...  ...    ...        ...            ...         ...   \n",
       "99995       37932    4   25.0   mecanico       39628.99         4.0   \n",
       "99996       37932    5   25.0   mecanico       39628.99         4.0   \n",
       "99997       37932    6   25.0   mecanico       39628.99         4.0   \n",
       "99998       37932    7   25.0   mecanico       39628.99         4.0   \n",
       "99999       37932    8   25.0   mecanico       39628.99         4.0   \n",
       "\n",
       "       num_cartoes  juros_emprestimo  num_emprestimos  dias_atraso  ...  \\\n",
       "0              4.0               3.0              4.0          3.0  ...   \n",
       "1              4.0               3.0              4.0          3.0  ...   \n",
       "2              4.0               3.0              4.0          3.0  ...   \n",
       "3              4.0               3.0              4.0          5.0  ...   \n",
       "4              4.0               3.0              4.0          6.0  ...   \n",
       "...            ...               ...              ...          ...  ...   \n",
       "99995          6.0               7.0              2.0         23.0  ...   \n",
       "99996          6.0               7.0              2.0         18.0  ...   \n",
       "99997          6.0               7.0              2.0         27.0  ...   \n",
       "99998          6.0               7.0              2.0         20.0  ...   \n",
       "99999          6.0               7.0              2.0         18.0  ...   \n",
       "\n",
       "       idade_historico_credito  investimento_mensal  \\\n",
       "0                        265.0            21.465380   \n",
       "1                        266.0            21.465380   \n",
       "2                        267.0            21.465380   \n",
       "3                        268.0            21.465380   \n",
       "4                        269.0            21.465380   \n",
       "...                        ...                  ...   \n",
       "99995                    378.0            24.028477   \n",
       "99996                    379.0            24.028477   \n",
       "99997                    380.0            24.028477   \n",
       "99998                    381.0            24.028477   \n",
       "99999                    382.0            24.028477   \n",
       "\n",
       "           comportamento_pagamento  saldo_final_mes  score_credito  \\\n",
       "0      alto_gasto_pagamento_baixos       312.494089           Good   \n",
       "1       baixo_gasto_pagamento_alto       284.629162           Good   \n",
       "2      baixo_gasto_pagamento_medio       331.209863           Good   \n",
       "3      baixo_gasto_pagamento_baixo       223.451310           Good   \n",
       "4       alto_gasto_pagamento_medio       341.489231           Good   \n",
       "...                            ...              ...            ...   \n",
       "99995    alto_gasto_pagamento_alto       479.866228           Poor   \n",
       "99996   alto_gasto_pagamento_medio       496.651610           Poor   \n",
       "99997    alto_gasto_pagamento_alto       516.809083           Poor   \n",
       "99998   baixo_gasto_pagamento_alto       319.164979       Standard   \n",
       "99999   alto_gasto_pagamento_medio       393.673696           Poor   \n",
       "\n",
       "       emprestimo_carro  emprestimo_casa emprestimo_pessoal  \\\n",
       "0                     1                1                  1   \n",
       "1                     1                1                  1   \n",
       "2                     1                1                  1   \n",
       "3                     1                1                  1   \n",
       "4                     1                1                  1   \n",
       "...                 ...              ...                ...   \n",
       "99995                 1                0                  0   \n",
       "99996                 1                0                  0   \n",
       "99997                 1                0                  0   \n",
       "99998                 1                0                  0   \n",
       "99999                 1                0                  0   \n",
       "\n",
       "       emprestimo_credito emprestimo_estudantil  \n",
       "0                       1                     0  \n",
       "1                       1                     0  \n",
       "2                       1                     0  \n",
       "3                       1                     0  \n",
       "4                       1                     0  \n",
       "...                   ...                   ...  \n",
       "99995                   0                     1  \n",
       "99996                   0                     1  \n",
       "99997                   0                     1  \n",
       "99998                   0                     1  \n",
       "99999                   0                     1  \n",
       "\n",
       "[100000 rows x 25 columns]"
      ]
     },
     "metadata": {},
     "output_type": "display_data"
    }
   ],
   "source": [
    "# Carregar os dados\n",
    "tabela = pd.read_csv(\"clientes.csv\")\n",
    "display(tabela)"
   ]
  },
  {
   "cell_type": "markdown",
   "metadata": {},
   "source": [
    "**2.3 Tratamento dos Dados**"
   ]
  },
  {
   "cell_type": "code",
   "execution_count": 3,
   "metadata": {},
   "outputs": [
    {
     "name": "stdout",
     "output_type": "stream",
     "text": [
      "<class 'pandas.core.frame.DataFrame'>\n",
      "RangeIndex: 100000 entries, 0 to 99999\n",
      "Data columns (total 25 columns):\n",
      " #   Column                    Non-Null Count   Dtype  \n",
      "---  ------                    --------------   -----  \n",
      " 0   id_cliente                100000 non-null  int64  \n",
      " 1   mes                       100000 non-null  int64  \n",
      " 2   idade                     100000 non-null  float64\n",
      " 3   profissao                 100000 non-null  object \n",
      " 4   salario_anual             100000 non-null  float64\n",
      " 5   num_contas                100000 non-null  float64\n",
      " 6   num_cartoes               100000 non-null  float64\n",
      " 7   juros_emprestimo          100000 non-null  float64\n",
      " 8   num_emprestimos           100000 non-null  float64\n",
      " 9   dias_atraso               100000 non-null  float64\n",
      " 10  num_pagamentos_atrasados  100000 non-null  float64\n",
      " 11  num_verificacoes_credito  100000 non-null  float64\n",
      " 12  mix_credito               100000 non-null  object \n",
      " 13  divida_total              100000 non-null  float64\n",
      " 14  taxa_uso_credito          100000 non-null  float64\n",
      " 15  idade_historico_credito   100000 non-null  float64\n",
      " 16  investimento_mensal       100000 non-null  float64\n",
      " 17  comportamento_pagamento   100000 non-null  object \n",
      " 18  saldo_final_mes           100000 non-null  float64\n",
      " 19  score_credito             100000 non-null  object \n",
      " 20  emprestimo_carro          100000 non-null  int64  \n",
      " 21  emprestimo_casa           100000 non-null  int64  \n",
      " 22  emprestimo_pessoal        100000 non-null  int64  \n",
      " 23  emprestimo_credito        100000 non-null  int64  \n",
      " 24  emprestimo_estudantil     100000 non-null  int64  \n",
      "dtypes: float64(14), int64(7), object(4)\n",
      "memory usage: 19.1+ MB\n",
      "None\n",
      "Index(['id_cliente', 'mes', 'idade', 'profissao', 'salario_anual',\n",
      "       'num_contas', 'num_cartoes', 'juros_emprestimo', 'num_emprestimos',\n",
      "       'dias_atraso', 'num_pagamentos_atrasados', 'num_verificacoes_credito',\n",
      "       'mix_credito', 'divida_total', 'taxa_uso_credito',\n",
      "       'idade_historico_credito', 'investimento_mensal',\n",
      "       'comportamento_pagamento', 'saldo_final_mes', 'score_credito',\n",
      "       'emprestimo_carro', 'emprestimo_casa', 'emprestimo_pessoal',\n",
      "       'emprestimo_credito', 'emprestimo_estudantil'],\n",
      "      dtype='object')\n"
     ]
    }
   ],
   "source": [
    "# Verificar valores vazios e tipos de dados\n",
    "print(tabela.info())\n",
    "print(tabela.columns)"
   ]
  },
  {
   "cell_type": "markdown",
   "metadata": {},
   "source": [
    "Após a verificação dos valores vazios e tipos de dados no conjunto de dados fornecido, constatou-se que não há valores nulos em nenhuma das colunas e que os tipos de dados estão apropriados para a análise proposta. Todos os campos estão preenchidos e os tipos de dados foram interpretados corretamente pelo Pandas, conforme especificado no resumo da estrutura do DataFrame.\n",
    "\n",
    "Com base nessa análise inicial, não há necessidade imediata de tratamento adicional para valores ausentes ou correção de tipos de dados. Isso indica que podemos prosseguir diretamente para a etapa de análise exploratória e modelagem dos dados, utilizando as informações disponíveis de forma direta e eficaz."
   ]
  },
  {
   "cell_type": "markdown",
   "metadata": {},
   "source": [
    "**3. ANÁLISE EXPLORATÓRIA DE DADOS (EDA)**\n",
    "\n",
    "Antes de prosseguir com a modelagem, será realizada uma análise exploratória dos dados para entender melhor as características e verificar a distribuição dos scores de crédito."
   ]
  },
  {
   "cell_type": "code",
   "execution_count": 4,
   "metadata": {},
   "outputs": [
    {
     "data": {
      "image/png": "[encoded data removed]",
      "text/plain": [
       "<Figure size 1200x600 with 1 Axes>"
      ]
     },
     "metadata": {},
     "output_type": "display_data"
    }
   ],
   "source": [
    "# Distribuição dos scores de crédito\n",
    "plt.figure(figsize=(12, 6))\n",
    "sns.countplot(data=tabela, x='score_credito')\n",
    "plt.title('Distribuição dos Scores de Crédito')\n",
    "plt.show()\n"
   ]
  },
  {
   "cell_type": "markdown",
   "metadata": {},
   "source": [
    "A análise da distribuição dos scores de crédito, conforme ilustrado no gráfico, revela que a maioria dos clientes da instituição financeira está classificada na categoria \"Standard\". Esse grupo representa mais da metade do total de clientes analisados. Em seguida, temos a categoria \"Poor\", que é a segunda mais frequente, indicando um número significativo de clientes com score de crédito considerado baixo. Por último, a categoria \"Good\" apresenta o menor número de clientes, refletindo uma menor proporção de clientes com score de crédito elevado."
   ]
  },
  {
   "cell_type": "markdown",
   "metadata": {},
   "source": [
    "**4. PRÉ-PROCESSAMENTO DOS DADOS**\n"
   ]
  },
  {
   "cell_type": "code",
   "execution_count": 5,
   "metadata": {},
   "outputs": [
    {
     "name": "stdout",
     "output_type": "stream",
     "text": [
      "<class 'pandas.core.frame.DataFrame'>\n",
      "RangeIndex: 100000 entries, 0 to 99999\n",
      "Data columns (total 25 columns):\n",
      " #   Column                    Non-Null Count   Dtype  \n",
      "---  ------                    --------------   -----  \n",
      " 0   id_cliente                100000 non-null  int64  \n",
      " 1   mes                       100000 non-null  int64  \n",
      " 2   idade                     100000 non-null  float64\n",
      " 3   profissao                 100000 non-null  int64  \n",
      " 4   salario_anual             100000 non-null  float64\n",
      " 5   num_contas                100000 non-null  float64\n",
      " 6   num_cartoes               100000 non-null  float64\n",
      " 7   juros_emprestimo          100000 non-null  float64\n",
      " 8   num_emprestimos           100000 non-null  float64\n",
      " 9   dias_atraso               100000 non-null  float64\n",
      " 10  num_pagamentos_atrasados  100000 non-null  float64\n",
      " 11  num_verificacoes_credito  100000 non-null  float64\n",
      " 12  mix_credito               100000 non-null  int64  \n",
      " 13  divida_total              100000 non-null  float64\n",
      " 14  taxa_uso_credito          100000 non-null  float64\n",
      " 15  idade_historico_credito   100000 non-null  float64\n",
      " 16  investimento_mensal       100000 non-null  float64\n",
      " 17  comportamento_pagamento   100000 non-null  int64  \n",
      " 18  saldo_final_mes           100000 non-null  float64\n",
      " 19  score_credito             100000 non-null  object \n",
      " 20  emprestimo_carro          100000 non-null  int64  \n",
      " 21  emprestimo_casa           100000 non-null  int64  \n",
      " 22  emprestimo_pessoal        100000 non-null  int64  \n",
      " 23  emprestimo_credito        100000 non-null  int64  \n",
      " 24  emprestimo_estudantil     100000 non-null  int64  \n",
      "dtypes: float64(14), int64(10), object(1)\n",
      "memory usage: 19.1+ MB\n",
      "None\n"
     ]
    }
   ],
   "source": [
    "# Codificação das variáveis categóricas\n",
    "codificador = LabelEncoder()\n",
    "\n",
    "for coluna in tabela.columns:\n",
    "    if tabela[coluna].dtype == \"object\" and coluna != \"score_credito\":\n",
    "        tabela[coluna] = codificador.fit_transform(tabela[coluna])\n",
    "\n",
    "# Verificando se todas as colunas foram modificadas\n",
    "print(tabela.info())"
   ]
  },
  {
   "cell_type": "markdown",
   "metadata": {},
   "source": [
    "O pré-processamento dos dados foi realizado através da codificação das variáveis categóricas, seguido de uma verificação das modificações realizadas. Primeiramente, é instanciado um *LabelEncoder*, um codificador utilizado para transformar variáveis categóricas em valores numéricos. Em seguida, percorre-se todas as colunas do dataframe *tabela* utilizando um loop *for*. Dentro do loop, verifica-se se o tipo de dado da coluna é *object*, o que indica que a coluna contém variáveis categóricas, com exceção da coluna *score_credito*, que é a variável alvo e não deve ser codificada nesse momento.\n",
    "\n",
    "Para cada coluna categórica identificada, o *LabelEncoder* transforma os valores categóricos em valores numéricos. Após a conclusão do loop, a função *print(tabela.info())* é utilizada para exibir informações detalhadas sobre o dataframe, incluindo o número de entradas não-nulas (non-null count) para cada coluna, o tipo de dado de cada coluna e o total de memória utilizado pelo dataframe.\n",
    "\n",
    "O resultado mostra que todas as variáveis categóricas foram devidamente transformadas em valores numéricos. "
   ]
  },
  {
   "cell_type": "markdown",
   "metadata": {},
   "source": [
    "**5. SELEÇÃO DE FEATURES E DIVISÃO DOS DADOS**"
   ]
  },
  {
   "cell_type": "code",
   "execution_count": 6,
   "metadata": {},
   "outputs": [],
   "source": [
    "# Seleção de features e target\n",
    "x = tabela.drop([\"score_credito\", \"id_cliente\"], axis=1)\n",
    "y = tabela[\"score_credito\"]\n",
    "\n",
    "# Divisão dos dados em treino e teste\n",
    "x_treino, x_teste, y_treino, y_teste = train_test_split(x, y, test_size=0.3, random_state=1)"
   ]
  },
  {
   "cell_type": "markdown",
   "metadata": {},
   "source": [
    " Foi realizado nessa etapa procedimentos essenciais na preparação dos dados para modelagem, assegurando a qualidade e a eficácia do modelo preditivo. Primeiramente, é realizada a seleção de features e da variável alvo (target). Nesta etapa, a variável *x* é criada a partir do dataframe *tabela*, removendo as colunas *score_credito* e *id_cliente*. A coluna *score_credito* é excluída porque representa a variável alvo que queremos prever, enquanto a coluna *id_cliente* é removida por ser uma variável identificadora única que não contém informações úteis para a modelagem preditiva, não influenciando o score de crédito dos clientes. Em seguida, a variável *y* é definida como a coluna *score_credito*, estabelecendo a variável que o modelo irá tentar prever.\n",
    "\n",
    "Na sequência, ocorre a divisão dos dados em conjuntos de treino e teste. Utilizando a função *train_test_split* do *scikit-learn*, *x* e *y* são divididos em *x_treino, x_teste, y_treino e y_teste*. Especificamente, 30% dos dados são designados para o conjunto de teste, enquanto os 70% restantes são destinados ao treinamento do modelo. A definição de *random_state=1* assegura que a divisão dos dados seja reprodutível, garantindo que cada vez que o código for executado com a mesma semente aleatória, a divisão dos dados será a mesma."
   ]
  },
  {
   "cell_type": "markdown",
   "metadata": {},
   "source": [
    "**6. TREINAMENTO DE MÚLTIPLOS MODELOS**"
   ]
  },
  {
   "cell_type": "code",
   "execution_count": 7,
   "metadata": {},
   "outputs": [
    {
     "name": "stdout",
     "output_type": "stream",
     "text": [
      "Random Forest: 0.8263\n",
      "KNN: 0.7324\n",
      "Gradient Boosting: 0.7081\n",
      "                   Accuracy\n",
      "Random Forest      0.826333\n",
      "KNN                0.732400\n",
      "Gradient Boosting  0.708067\n"
     ]
    }
   ],
   "source": [
    "# Definir modelos\n",
    "modelos = {\n",
    "    \"Random Forest\": RandomForestClassifier(),\n",
    "    \"KNN\": KNeighborsClassifier(),\n",
    "    \"Gradient Boosting\": GradientBoostingClassifier()\n",
    "}\n",
    "\n",
    "# Treinamento e avaliação dos modelos\n",
    "resultados = {}\n",
    "for nome, modelo in modelos.items():\n",
    "    modelo.fit(x_treino, y_treino)\n",
    "    previsoes = modelo.predict(x_teste)\n",
    "    acc = accuracy_score(y_teste, previsoes)\n",
    "    resultados[nome] = acc\n",
    "    print(f\"{nome}: {acc:.4f}\")\n",
    "\n",
    "# Exibir resultados\n",
    "resultados_df = pd.DataFrame.from_dict(resultados, orient='index', columns=['Accuracy'])\n",
    "print(resultados_df)"
   ]
  },
  {
   "cell_type": "markdown",
   "metadata": {},
   "source": [
    "A acurácia é uma métrica que indica a proporção de previsões corretas feitas pelo modelo em relação ao total de previsões.\n",
    "\n",
    "Os resultados obtidos foram os seguintes: o modelo Random Forest apresentou a mais alta acurácia, aproximadamente 82.73%, seguido pelo KNN com aproximadamente 73.24%, e o Gradient Boosting com aproximadamente 70.81%.\n",
    "\n",
    "Com base nos resultados e considerando uma acurácia superior e menor complexidade computacional, o Random Forest é uma escolha sólida neste caso. Ele obteve a maior acurácia entre os modelos testados e geralmente é robusto em diferentes tipos de conjuntos de dados."
   ]
  },
  {
   "cell_type": "code",
   "execution_count": 8,
   "metadata": {},
   "outputs": [
    {
     "name": "stdout",
     "output_type": "stream",
     "text": [
      "Classification Report:\n",
      "               precision    recall  f1-score   support\n",
      "\n",
      "        Good       0.79      0.78      0.79      5327\n",
      "        Poor       0.80      0.84      0.82      8683\n",
      "    Standard       0.84      0.83      0.83     15990\n",
      "\n",
      "    accuracy                           0.82     30000\n",
      "   macro avg       0.81      0.82      0.81     30000\n",
      "weighted avg       0.82      0.82      0.82     30000\n",
      "\n",
      "Confusion Matrix:\n",
      " [[ 4169    31  1127]\n",
      " [   66  7304  1313]\n",
      " [ 1039  1746 13205]]\n"
     ]
    }
   ],
   "source": [
    "# Selecionar o melhor modelo (Random Forest)\n",
    "melhor_modelo = RandomForestClassifier()\n",
    "melhor_modelo.fit(x_treino, y_treino)\n",
    "previsoes = melhor_modelo.predict(x_teste)\n",
    "\n",
    "# Avaliação detalhada\n",
    "print(\"Classification Report:\\n\", classification_report(y_teste, previsoes))\n",
    "print(\"Confusion Matrix:\\n\", confusion_matrix(y_teste, previsoes))\n"
   ]
  },
  {
   "cell_type": "markdown",
   "metadata": {},
   "source": [
    "Os resultados mostram que o modelo tem uma boa performance geral, com uma precisão média de cerca de 83%. Ele parece ser particularmente bom em prever a classe \"Standard\" de score de crédito, com precisão e recall mais altos em comparação com as outras classes. Isso sugere que o modelo Random Forest está bem ajustado para o problema em questão, mas é sempre importante considerar outras métricas e o contexto específico do negócio ao interpretar esses resultados para tomadas de decisão."
   ]
  },
  {
   "cell_type": "markdown",
   "metadata": {},
   "source": [
    "**7. IMPORTÂNCIA DAS FEATURES**"
   ]
  },
  {
   "cell_type": "code",
   "execution_count": 9,
   "metadata": {},
   "outputs": [
    {
     "data": {
      "image/png": "[encoded data removed]",
      "text/plain": [
       "<Figure size 1200x600 with 1 Axes>"
      ]
     },
     "metadata": {},
     "output_type": "display_data"
    }
   ],
   "source": [
    "# Importância das features\n",
    "importancia = pd.DataFrame(melhor_modelo.feature_importances_, index=x.columns, columns=['Importância']).sort_values(by='Importância', ascending=False)\n",
    "\n",
    "plt.figure(figsize=(12, 6))\n",
    "sns.barplot(x=importancia.Importância, y=importancia.index)\n",
    "plt.title('Importância das Features')\n",
    "plt.show()"
   ]
  },
  {
   "cell_type": "markdown",
   "metadata": {},
   "source": [
    "A identificação das features mais importantes no modelo é essencial para compreender quais variáveis têm maior impacto na predição do score de crédito dos clientes. Ao analisar as barras mais altas do gráfico de importância das features, é possível identificar as variáveis que exercem maior influência no modelo. No caso do gráfico fornecido, as features mais importantes são: divida total, juros_emprestimo e mix_credito.\n",
    "\n",
    "A feature \"divida total\" provavelmente representa o valor total da dívida do cliente, indicando sua capacidade de honrar compromissos financeiros, o que faz sentido como um fator determinante do score de crédito. A feature \"juros_emprestimo\" está relacionada à taxa de juros dos empréstimos dos clientes, influenciando diretamente sua capacidade de pagamento. Já a feature \"mix_credito\" pode indicar a diversificação do crédito do cliente, fator positivo para a capacidade de pagamento.\n",
    "\n",
    "Ao interpretar a importância relativa das features, é essencial comparar as alturas das barras. As features no topo do gráfico contribuem significativamente mais para o modelo do que as features na base. Essa análise auxilia na seleção de variáveis ​​relevantes para o modelo, otimizando seu desempenho e fornecendo insights valiosos sobre os fatores que influenciam as previsões.\n",
    "\n",
    "Além disso, a análise do gráfico revela que as características com menor influência para o modelo são \"emprestimo_estudantil\", \"emprestimo_credito\" e \"emprestimo_caro\". Essas variáveis, por terem pouca contribuição, podem ser consideradas menos relevantes para a predição do score de crédito, permitindo uma possível simplificação do modelo sem perda significativa de desempenho.\n",
    "\n",
    "Compreender a importância das features não apenas melhora a performance do modelo, mas também proporciona uma visão clara dos fatores que mais afetam o score de crédito, permitindo a tomada de decisões mais informadas e estratégias de negócios mais eficazes."
   ]
  },
  {
   "cell_type": "markdown",
   "metadata": {},
   "source": [
    "**8. PREVISÕES EM NOVOS CLIENTES**"
   ]
  },
  {
   "cell_type": "code",
   "execution_count": 10,
   "metadata": {},
   "outputs": [
    {
     "name": "stdout",
     "output_type": "stream",
     "text": [
      "['Poor' 'Good' 'Standard']\n"
     ]
    }
   ],
   "source": [
    "# Carregar novos clientes\n",
    "novos_clientes = pd.read_csv(\"novos_clientes.csv\")\n",
    "for coluna in novos_clientes.columns:\n",
    "    if novos_clientes[coluna].dtype == \"object\" and coluna != \"score_credito\":\n",
    "        novos_clientes[coluna] = codificador.fit_transform(novos_clientes[coluna])\n",
    "\n",
    "# Fazer previsões\n",
    "previsoes_novos = melhor_modelo.predict(novos_clientes)\n",
    "print(previsoes_novos)"
   ]
  },
  {
   "cell_type": "markdown",
   "metadata": {},
   "source": [
    "Na última etapa do processo, carregamos um novo conjunto de dados contendo informações sobre novos clientes. Para garantir que o modelo possa fazer previsões adequadas, foi necessário pré-processar essas informações. Assim, as variáveis categóricas do novo conjunto de dados foram codificadas usando o mesmo codificador aplicado anteriormente nos dados de treinamento.\n",
    "\n",
    "Em seguida, utilizamos o melhor modelo treinado, identificado como o modelo de Random Forest, para fazer previsões sobre o score de crédito desses novos clientes. As previsões resultantes indicaram que os novos clientes foram classificados nas categorias 'Poor' (Ruim), 'Good' (Bom) e 'Standard' (Padrão), respectivamente.\n",
    "\n",
    "Essa abordagem permite que a empresa avalie rapidamente a pontuação de crédito de novos clientes usando um modelo previamente treinado e validado. Ao codificar consistentemente as variáveis categóricas, garantimos que as previsões são realizadas de maneira uniforme e precisa, alinhadas com o processo de modelagem original."
   ]
  },
  {
   "cell_type": "markdown",
   "metadata": {},
   "source": [
    "**Entre em Contato Comigo**\n",
    "\n",
    "Caso tenha alguma dúvida, sugestão ou apenas queira trocar uma ideia sobre este projeto, não hesite em entrar em contato comigo!\n",
    "\n",
    "**karldarwin248@gmail.com**\n",
    "\n",
    "**https://www.linkedin.com/in/karldarwin**"
   ]
  }
 ],
 "metadata": {
  "kernelspec": {
   "display_name": "Python 3",
   "language": "python",
   "name": "python3"
  },
  "language_info": {
   "codemirror_mode": {
    "name": "ipython",
    "version": 3
   },
   "file_extension": ".py",
   "mimetype": "text/x-python",
   "name": "python",
   "nbconvert_exporter": "python",
   "pygments_lexer": "ipython3",
   "version": "3.12.4"
  },
  "orig_nbformat": 4
 },
 "nbformat": 4,
 "nbformat_minor": 2
}
